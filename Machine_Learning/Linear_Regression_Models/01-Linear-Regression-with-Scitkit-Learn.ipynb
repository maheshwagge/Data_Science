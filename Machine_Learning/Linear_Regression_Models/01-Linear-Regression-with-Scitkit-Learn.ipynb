{
 "cells": [
  {
   "cell_type": "code",
   "execution_count": 1,
   "id": "7c245ead",
   "metadata": {},
   "outputs": [],
   "source": [
    "import pandas as pd\n",
    "import numpy as np\n",
    "import matplotlib.pyplot as plt\n"
   ]
  },
  {
   "cell_type": "code",
   "execution_count": 2,
   "id": "34c88710",
   "metadata": {},
   "outputs": [],
   "source": [
    "week_data = [1, 2, 3, 4, 5]\n",
    "sales_data = [2, 4, 5, 4, 5]\n",
    "\n",
    "df = pd.DataFrame({\"Weeks\": week_data,\n",
    "                   \"Sales\": sales_data})"
   ]
  },
  {
   "cell_type": "code",
   "execution_count": 3,
   "id": "3f60528a",
   "metadata": {},
   "outputs": [
    {
     "data": {
      "text/html": [
       "<div>\n",
       "<style scoped>\n",
       "    .dataframe tbody tr th:only-of-type {\n",
       "        vertical-align: middle;\n",
       "    }\n",
       "\n",
       "    .dataframe tbody tr th {\n",
       "        vertical-align: top;\n",
       "    }\n",
       "\n",
       "    .dataframe thead th {\n",
       "        text-align: right;\n",
       "    }\n",
       "</style>\n",
       "<table border=\"1\" class=\"dataframe\">\n",
       "  <thead>\n",
       "    <tr style=\"text-align: right;\">\n",
       "      <th></th>\n",
       "      <th>Weeks</th>\n",
       "      <th>Sales</th>\n",
       "    </tr>\n",
       "  </thead>\n",
       "  <tbody>\n",
       "    <tr>\n",
       "      <th>0</th>\n",
       "      <td>1</td>\n",
       "      <td>2</td>\n",
       "    </tr>\n",
       "    <tr>\n",
       "      <th>1</th>\n",
       "      <td>2</td>\n",
       "      <td>4</td>\n",
       "    </tr>\n",
       "    <tr>\n",
       "      <th>2</th>\n",
       "      <td>3</td>\n",
       "      <td>5</td>\n",
       "    </tr>\n",
       "    <tr>\n",
       "      <th>3</th>\n",
       "      <td>4</td>\n",
       "      <td>4</td>\n",
       "    </tr>\n",
       "    <tr>\n",
       "      <th>4</th>\n",
       "      <td>5</td>\n",
       "      <td>5</td>\n",
       "    </tr>\n",
       "  </tbody>\n",
       "</table>\n",
       "</div>"
      ],
      "text/plain": [
       "   Weeks  Sales\n",
       "0      1      2\n",
       "1      2      4\n",
       "2      3      5\n",
       "3      4      4\n",
       "4      5      5"
      ]
     },
     "execution_count": 3,
     "metadata": {},
     "output_type": "execute_result"
    }
   ],
   "source": [
    "df"
   ]
  },
  {
   "cell_type": "code",
   "execution_count": 4,
   "id": "c9a7d34f",
   "metadata": {},
   "outputs": [],
   "source": [
    "X = df[\"Weeks\"].values"
   ]
  },
  {
   "cell_type": "code",
   "execution_count": 6,
   "id": "60552be5",
   "metadata": {},
   "outputs": [],
   "source": [
    "Y = df[\"Sales\"].values"
   ]
  },
  {
   "cell_type": "code",
   "execution_count": 7,
   "id": "4c0c96c9",
   "metadata": {},
   "outputs": [
    {
     "name": "stdout",
     "output_type": "stream",
     "text": [
      "m : 0.6\n",
      "c : 2.2\n"
     ]
    }
   ],
   "source": [
    "mean_x = np.mean(X)\n",
    "mean_y = np.mean(Y)\n",
    "\n",
    "n = len(X)\n",
    "\n",
    "numer = 0\n",
    "denom = 0\n",
    "for i in range(n):\n",
    "    numer += (X[i] - mean_x) * (Y[i] - mean_y)\n",
    "    denom += (X[i] - mean_x)**2\n",
    "m= numer/denom\n",
    "c=mean_y - (m * mean_x)\n",
    "\n",
    "print(f\"m : {m}\")\n",
    "print(f\"c : {c}\")"
   ]
  },
  {
   "cell_type": "code",
   "execution_count": 10,
   "id": "3ab9f4c1",
   "metadata": {},
   "outputs": [
    {
     "data": {
      "text/plain": [
       "<matplotlib.legend.Legend at 0x25f9a9a1730>"
      ]
     },
     "execution_count": 10,
     "metadata": {},
     "output_type": "execute_result"
    },
    {
     "data": {
      "image/png": "[encoded data removed]",
      "text/plain": [
       "<Figure size 640x480 with 1 Axes>"
      ]
     },
     "metadata": {},
     "output_type": "display_data"
    }
   ],
   "source": [
    "max_x = np.max(X) + 1\n",
    "min_x = np.min(X) - 1\n",
    "\n",
    "x = np.linspace(min_x, max_x)\n",
    "\n",
    "y = (m * x) + c\n",
    "\n",
    "plt.plot(x,y,color='#8c250f', label='Regression Line', linestyle = '--')\n",
    "plt.scatter(X,Y, color='#043078', label='Data Point')\n",
    "plt.xlabel(\"Week\")\n",
    "plt.ylabel(\"Sales\")\n",
    "plt.title(\"LR Demo\")\n",
    "plt.grid(True, alpha=0.3,)\n",
    "plt.legend(loc='best')\n"
   ]
  }
 ],
 "metadata": {
  "kernelspec": {
   "display_name": "Python 3",
   "language": "python",
   "name": "python3"
  },
  "language_info": {
   "codemirror_mode": {
    "name": "ipython",
    "version": 3
   },
   "file_extension": ".py",
   "mimetype": "text/x-python",
   "name": "python",
   "nbconvert_exporter": "python",
   "pygments_lexer": "ipython3",
   "version": "3.12.6"
  }
 },
 "nbformat": 4,
 "nbformat_minor": 5
}
